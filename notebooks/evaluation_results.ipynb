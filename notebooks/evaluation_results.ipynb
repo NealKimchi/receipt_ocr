{
 "cells": [
  {
   "cell_type": "code",
   "execution_count": null,
   "metadata": {},
   "outputs": [],
   "source": [
    "import os\n",
    "import matplotlib.pyplot as plt\n",
    "from IPython.display import display, Image, HTML\n",
    "import pandas as pd\n",
    "\n",
    "# Define the paths\n",
    "base_dir = \"../output/eval_20250314_173949/\"\n",
    "viz_dir = os.path.join(base_dir, \"visualizations\")\n",
    "eval_file = os.path.join(base_dir, \"evaluation_results.txt\")\n"
   ]
  },
  {
   "cell_type": "code",
   "execution_count": null,
   "metadata": {},
   "outputs": [],
   "source": [
    "# Function to display images\n",
    "def display_sample_images(sample_idx=0):\n",
    "    plt.figure(figsize=(20, 15))\n",
    "    \n",
    "    # Find all images for the given sample index\n",
    "    sample_files = [f for f in os.listdir(viz_dir) if f.startswith(f\"sample_{sample_idx}_\") and f.endswith(\".png\")]\n",
    "    sample_files.sort()  # Sort to ensure consistent order\n",
    "    \n",
    "    # Display each image\n",
    "    for i, img_file in enumerate(sample_files):\n",
    "        img_path = os.path.join(viz_dir, img_file)\n",
    "        plt.subplot(2, 4, i+1)\n",
    "        img = plt.imread(img_path)\n",
    "        plt.imshow(img)\n",
    "        plt.title(f\"Stage {i}\")\n",
    "        plt.axis('off')\n",
    "    \n",
    "    plt.tight_layout()\n",
    "    plt.show()"
   ]
  },
  {
   "cell_type": "code",
   "execution_count": null,
   "metadata": {},
   "outputs": [],
   "source": [
    "# Display evaluation results\n",
    "def display_eval_results():\n",
    "    with open(eval_file, 'r') as f:\n",
    "        eval_text = f.read()\n",
    "    \n",
    "    # Create a styled display for the evaluation results\n",
    "    html = f\"\"\"\n",
    "    <div style=\"background-color:#f5f5f5; padding:15px; border-radius:5px; margin:10px 0;\">\n",
    "        <h3>Evaluation Results</h3>\n",
    "        <pre style=\"white-space:pre-wrap;\">{eval_text}</pre>\n",
    "    </div>\n",
    "    \"\"\"\n",
    "    display(HTML(html))\n",
    "\n",
    "# Display sample 0 images\n",
    "print(\"Displaying images for sample 0:\")\n",
    "display_sample_images(0)"
   ]
  },
  {
   "cell_type": "code",
   "execution_count": null,
   "metadata": {},
   "outputs": [],
   "source": [
    "# Show evaluation results\n",
    "print(\"\\nEvaluation Results:\")\n",
    "display_eval_results()"
   ]
  },
  {
   "cell_type": "code",
   "execution_count": null,
   "metadata": {},
   "outputs": [],
   "source": [
    "# Function to let user select different samples interactively\n",
    "def show_different_sample(sample_idx):\n",
    "    display_sample_images(sample_idx)"
   ]
  },
  {
   "cell_type": "code",
   "execution_count": null,
   "metadata": {},
   "outputs": [],
   "source": [
    "# Create interactive widget for viewing different samples\n",
    "from ipywidgets import interact, IntSlider\n",
    "interact(show_different_sample, \n",
    "         sample_idx=IntSlider(min=0, max=10, step=1, value=0, description='Sample:'));"
   ]
  }
 ],
 "metadata": {
  "language_info": {
   "name": "python"
  }
 },
 "nbformat": 4,
 "nbformat_minor": 2
}
